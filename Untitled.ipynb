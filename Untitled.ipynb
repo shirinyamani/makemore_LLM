{
 "cells": [
  {
   "cell_type": "code",
   "execution_count": 39,
   "id": "3bbd87ff-7f4b-4314-a20b-ab236f3bbb01",
   "metadata": {},
   "outputs": [],
   "source": [
    "words = open('./names.txt', 'r').read().splitlines()"
   ]
  },
  {
   "cell_type": "code",
   "execution_count": 40,
   "id": "7f30da1d-da86-4d7d-8b9e-64120e7fe244",
   "metadata": {},
   "outputs": [
    {
     "data": {
      "text/plain": [
       "['abigail',\n",
       " 'emily',\n",
       " 'elizabeth',\n",
       " 'mila',\n",
       " 'ella',\n",
       " 'avery',\n",
       " 'sofia',\n",
       " 'camila',\n",
       " 'aria',\n",
       " 'scarlett']"
      ]
     },
     "execution_count": 40,
     "metadata": {},
     "output_type": "execute_result"
    }
   ],
   "source": [
    "words[10:20]"
   ]
  },
  {
   "cell_type": "code",
   "execution_count": 41,
   "id": "3547be11-df78-4977-9d50-2880e5e585c2",
   "metadata": {},
   "outputs": [
    {
     "data": {
      "text/plain": [
       "32033"
      ]
     },
     "execution_count": 41,
     "metadata": {},
     "output_type": "execute_result"
    }
   ],
   "source": [
    "len(words)"
   ]
  },
  {
   "cell_type": "code",
   "execution_count": 42,
   "id": "d33e77e6-5441-4bb5-b438-fdfba862fc6a",
   "metadata": {},
   "outputs": [
    {
     "data": {
      "text/plain": [
       "2"
      ]
     },
     "execution_count": 42,
     "metadata": {},
     "output_type": "execute_result"
    }
   ],
   "source": [
    "min(len(w) for w in words)"
   ]
  },
  {
   "cell_type": "code",
   "execution_count": 43,
   "id": "33f089e5-7c0d-4c10-bc5e-9047e60992d9",
   "metadata": {},
   "outputs": [
    {
     "data": {
      "text/plain": [
       "15"
      ]
     },
     "execution_count": 43,
     "metadata": {},
     "output_type": "execute_result"
    }
   ],
   "source": [
    "max(len(w) for w in words)"
   ]
  },
  {
   "cell_type": "code",
   "execution_count": 51,
   "id": "08b82d27-6c90-4de8-b7f1-a917921f0025",
   "metadata": {},
   "outputs": [
    {
     "name": "stdout",
     "output_type": "stream",
     "text": [
      "not found\n"
     ]
    }
   ],
   "source": [
    "words_dict = {word:len(word) for word in words}\n",
    "print(word if words_dict[word] == 15 else \"not found\")"
   ]
  },
  {
   "cell_type": "code",
   "execution_count": null,
   "id": "6ba30768-453d-47a9-a5da-54d306fe944b",
   "metadata": {},
   "outputs": [],
   "source": []
  }
 ],
 "metadata": {
  "kernelspec": {
   "display_name": "Python 3 (ipykernel)",
   "language": "python",
   "name": "python3"
  },
  "language_info": {
   "codemirror_mode": {
    "name": "ipython",
    "version": 3
   },
   "file_extension": ".py",
   "mimetype": "text/x-python",
   "name": "python",
   "nbconvert_exporter": "python",
   "pygments_lexer": "ipython3",
   "version": "3.10.10"
  }
 },
 "nbformat": 4,
 "nbformat_minor": 5
}

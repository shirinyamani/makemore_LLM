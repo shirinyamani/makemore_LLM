{
 "cells": [
  {
   "cell_type": "markdown",
   "id": "28fecebc-3dc8-4ca0-a21b-a92a8d34efb2",
   "metadata": {},
   "source": [
    "# the vector space for the words will eventually change in the space sd they get close to the ones which has similar meaing \n"
   ]
  },
  {
   "cell_type": "code",
   "execution_count": 1,
   "id": "a1021e39-b0c1-4163-9fac-042765400766",
   "metadata": {},
   "outputs": [],
   "source": [
    "import torch\n",
    "import torch.nn.functional as F\n",
    "import matplotlib.pyplot as plt\n",
    "%matplotlib inline"
   ]
  },
  {
   "cell_type": "code",
   "execution_count": 2,
   "id": "1af805c9-a8c8-4fec-ab6b-e40b13cdf991",
   "metadata": {},
   "outputs": [],
   "source": [
    "#read the words\n",
    "words = open('../names.txt', 'r').read().splitlines()"
   ]
  },
  {
   "cell_type": "code",
   "execution_count": 3,
   "id": "42617f26-a7e9-445d-be24-f178875d9207",
   "metadata": {},
   "outputs": [
    {
     "data": {
      "text/plain": [
       "32033"
      ]
     },
     "execution_count": 3,
     "metadata": {},
     "output_type": "execute_result"
    }
   ],
   "source": [
    "len(words)"
   ]
  },
  {
   "cell_type": "code",
   "execution_count": 22,
   "id": "21c27b67-d802-4bef-bec4-a1a9007532c6",
   "metadata": {},
   "outputs": [],
   "source": [
    "#get all non-repeating charcs in once\n",
    "# build the vocal of chars and mappings to/from integers\n",
    "chars = sorted(list(set(''.join(words))))\n",
    "stoi1 = {s:i+1 for i,s in enumerate(chars)}\n",
    "stoi = {s:i for i,s in enumerate(chars)}\n",
    "stoi['.'] = 0\n",
    "itos = {i:s for s,i in stoi.items()}"
   ]
  },
  {
   "cell_type": "code",
   "execution_count": 23,
   "id": "283e9de0-e617-42c8-b425-14281c6b242d",
   "metadata": {},
   "outputs": [
    {
     "name": "stdout",
     "output_type": "stream",
     "text": [
      "{0: '.', 1: 'b', 2: 'c', 3: 'd', 4: 'e', 5: 'f', 6: 'g', 7: 'h', 8: 'i', 9: 'j', 10: 'k', 11: 'l', 12: 'm', 13: 'n', 14: 'o', 15: 'p', 16: 'q', 17: 'r', 18: 's', 19: 't', 20: 'u', 21: 'v', 22: 'w', 23: 'x', 24: 'y', 25: 'z'}\n"
     ]
    }
   ],
   "source": [
    "print(itos)"
   ]
  },
  {
   "cell_type": "code",
   "execution_count": 31,
   "id": "01ef0794-f1b9-4683-b849-21d087f0eff6",
   "metadata": {},
   "outputs": [
    {
     "name": "stdout",
     "output_type": "stream",
     "text": [
      "emma\n",
      "... -----> e\n",
      "..e -----> m\n",
      ".em -----> m\n",
      "emm -----> .\n",
      "mm. -----> .\n",
      "olivia\n",
      "... -----> o\n",
      "..o -----> l\n",
      ".ol -----> i\n",
      "oli -----> v\n",
      "liv -----> i\n",
      "ivi -----> .\n",
      "vi. -----> .\n",
      "ava\n",
      "... -----> .\n",
      "... -----> v\n",
      "..v -----> .\n",
      ".v. -----> .\n",
      "isabella\n",
      "... -----> i\n",
      "..i -----> s\n",
      ".is -----> .\n",
      "is. -----> b\n",
      "s.b -----> e\n",
      ".be -----> l\n",
      "bel -----> l\n",
      "ell -----> .\n",
      "ll. -----> .\n",
      "sophia\n",
      "... -----> s\n",
      "..s -----> o\n",
      ".so -----> p\n",
      "sop -----> h\n",
      "oph -----> i\n",
      "phi -----> .\n",
      "hi. -----> .\n"
     ]
    }
   ],
   "source": [
    "#re building the dataset\n",
    "block_size = 3 #context_length; how many charactors do we take to predict the next one\n",
    "X, Y = [], []\n",
    "for w in words[:5]:\n",
    "    print(w)\n",
    "    context = [0] * block_size\n",
    "    for ch in w + '.':\n",
    "        ix = stoi[ch]\n",
    "        X.append(context)\n",
    "        Y.append(ix)\n",
    "        print(''.join(itos[i] for i in context), '----->' ,itos[ix])\n",
    "        context = context[1:] + [ix]\n",
    "\n",
    "X = torch.tensor(X)\n",
    "Y = torch.tensor(Y)"
   ]
  },
  {
   "cell_type": "markdown",
   "id": "73430f4c-6ade-4c20-8caf-87432e74c5be",
   "metadata": {},
   "source": []
  },
  {
   "cell_type": "code",
   "execution_count": 32,
   "id": "32171dc8-8ca4-4ca9-87d0-466a812201a4",
   "metadata": {},
   "outputs": [
    {
     "data": {
      "text/plain": [
       "(torch.Size([32, 3]), torch.int64, torch.Size([32]), torch.Size([32]))"
      ]
     },
     "execution_count": 32,
     "metadata": {},
     "output_type": "execute_result"
    }
   ],
   "source": [
    "X.shape, X.dtype, Y.shape, Y.shape"
   ]
  },
  {
   "cell_type": "code",
   "execution_count": 33,
   "id": "2b0944ad-d369-4321-8c51-4e6d61264b9a",
   "metadata": {},
   "outputs": [
    {
     "data": {
      "text/plain": [
       "tensor([[ 0,  0,  0],\n",
       "        [ 0,  0,  4],\n",
       "        [ 0,  4, 12],\n",
       "        [ 4, 12, 12],\n",
       "        [12, 12,  0],\n",
       "        [ 0,  0,  0],\n",
       "        [ 0,  0, 14],\n",
       "        [ 0, 14, 11],\n",
       "        [14, 11,  8],\n",
       "        [11,  8, 21],\n",
       "        [ 8, 21,  8],\n",
       "        [21,  8,  0],\n",
       "        [ 0,  0,  0],\n",
       "        [ 0,  0,  0],\n",
       "        [ 0,  0, 21],\n",
       "        [ 0, 21,  0],\n",
       "        [ 0,  0,  0],\n",
       "        [ 0,  0,  8],\n",
       "        [ 0,  8, 18],\n",
       "        [ 8, 18,  0],\n",
       "        [18,  0,  1],\n",
       "        [ 0,  1,  4],\n",
       "        [ 1,  4, 11],\n",
       "        [ 4, 11, 11],\n",
       "        [11, 11,  0],\n",
       "        [ 0,  0,  0],\n",
       "        [ 0,  0, 18],\n",
       "        [ 0, 18, 14],\n",
       "        [18, 14, 15],\n",
       "        [14, 15,  7],\n",
       "        [15,  7,  8],\n",
       "        [ 7,  8,  0]])"
      ]
     },
     "execution_count": 33,
     "metadata": {},
     "output_type": "execute_result"
    }
   ],
   "source": [
    "X"
   ]
  },
  {
   "cell_type": "code",
   "execution_count": 34,
   "id": "dd62dee5-07cc-42f5-b213-5e3620c79385",
   "metadata": {},
   "outputs": [
    {
     "data": {
      "text/plain": [
       "tensor([ 4, 12, 12,  0,  0, 14, 11,  8, 21,  8,  0,  0,  0, 21,  0,  0,  8, 18,\n",
       "         0,  1,  4, 11, 11,  0,  0, 18, 14, 15,  7,  8,  0,  0])"
      ]
     },
     "execution_count": 34,
     "metadata": {},
     "output_type": "execute_result"
    }
   ],
   "source": [
    "Y"
   ]
  },
  {
   "cell_type": "code",
   "execution_count": null,
   "id": "b7163966-b794-42ca-8a77-3a40938eb783",
   "metadata": {},
   "outputs": [],
   "source": []
  },
  {
   "cell_type": "code",
   "execution_count": null,
   "id": "737175a5-a368-4608-a7bf-5ad0dede4795",
   "metadata": {},
   "outputs": [],
   "source": []
  }
 ],
 "metadata": {
  "kernelspec": {
   "display_name": "Python 3 (ipykernel)",
   "language": "python",
   "name": "python3"
  },
  "language_info": {
   "codemirror_mode": {
    "name": "ipython",
    "version": 3
   },
   "file_extension": ".py",
   "mimetype": "text/x-python",
   "name": "python",
   "nbconvert_exporter": "python",
   "pygments_lexer": "ipython3",
   "version": "3.10.12"
  }
 },
 "nbformat": 4,
 "nbformat_minor": 5
}

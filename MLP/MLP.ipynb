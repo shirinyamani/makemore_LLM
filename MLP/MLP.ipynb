{
 "cells": [
  {
   "cell_type": "markdown",
   "id": "28fecebc-3dc8-4ca0-a21b-a92a8d34efb2",
   "metadata": {},
   "source": [
    "# the vector space for the words will eventually change in the space sd they get close to the ones which has similar meaing \n"
   ]
  },
  {
   "cell_type": "code",
   "execution_count": 1,
   "id": "a1021e39-b0c1-4163-9fac-042765400766",
   "metadata": {},
   "outputs": [],
   "source": [
    "import torch\n",
    "import torch.nn.functional as F\n",
    "import matplotlib.pyplot as plt\n",
    "%matplotlib inline"
   ]
  },
  {
   "cell_type": "code",
   "execution_count": 2,
   "id": "1af805c9-a8c8-4fec-ab6b-e40b13cdf991",
   "metadata": {},
   "outputs": [],
   "source": [
    "#read the words\n",
    "words = open('../names.txt', 'r').read().splitlines()"
   ]
  },
  {
   "cell_type": "code",
   "execution_count": 3,
   "id": "42617f26-a7e9-445d-be24-f178875d9207",
   "metadata": {},
   "outputs": [
    {
     "data": {
      "text/plain": [
       "32033"
      ]
     },
     "execution_count": 3,
     "metadata": {},
     "output_type": "execute_result"
    }
   ],
   "source": [
    "len(words)"
   ]
  },
  {
   "cell_type": "code",
   "execution_count": 3,
   "id": "21c27b67-d802-4bef-bec4-a1a9007532c6",
   "metadata": {},
   "outputs": [],
   "source": [
    "#get all non-repeating charcs in once\n",
    "# build the vocal of chars and mappings to/from integers\n",
    "chars = sorted(list(set(''.join(words))))\n",
    "stoi1 = {s:i+1 for i,s in enumerate(chars)}\n",
    "stoi = {s:i for i,s in enumerate(chars)}\n",
    "stoi['.'] = 0\n",
    "itos = {i:s for s,i in stoi.items()}"
   ]
  },
  {
   "cell_type": "code",
   "execution_count": 4,
   "id": "283e9de0-e617-42c8-b425-14281c6b242d",
   "metadata": {},
   "outputs": [
    {
     "name": "stdout",
     "output_type": "stream",
     "text": [
      "{0: '.', 1: 'b', 2: 'c', 3: 'd', 4: 'e', 5: 'f', 6: 'g', 7: 'h', 8: 'i', 9: 'j', 10: 'k', 11: 'l', 12: 'm', 13: 'n', 14: 'o', 15: 'p', 16: 'q', 17: 'r', 18: 's', 19: 't', 20: 'u', 21: 'v', 22: 'w', 23: 'x', 24: 'y', 25: 'z'}\n"
     ]
    }
   ],
   "source": [
    "print(itos)"
   ]
  },
  {
   "cell_type": "code",
   "execution_count": 7,
   "id": "01ef0794-f1b9-4683-b849-21d087f0eff6",
   "metadata": {},
   "outputs": [
    {
     "name": "stdout",
     "output_type": "stream",
     "text": [
      "emma\n",
      "... -----> e\n",
      "[0, 0, 4]\n",
      "..e -----> m\n",
      "[0, 4, 12]\n",
      ".em -----> m\n",
      "[4, 12, 12]\n",
      "emm -----> .\n",
      "[12, 12, 0]\n",
      "mm. -----> .\n",
      "[12, 0, 0]\n",
      "olivia\n",
      "... -----> o\n",
      "[0, 0, 14]\n",
      "..o -----> l\n",
      "[0, 14, 11]\n",
      ".ol -----> i\n",
      "[14, 11, 8]\n",
      "oli -----> v\n",
      "[11, 8, 21]\n",
      "liv -----> i\n",
      "[8, 21, 8]\n",
      "ivi -----> .\n",
      "[21, 8, 0]\n",
      "vi. -----> .\n",
      "[8, 0, 0]\n",
      "ava\n",
      "... -----> .\n",
      "[0, 0, 0]\n",
      "... -----> v\n",
      "[0, 0, 21]\n",
      "..v -----> .\n",
      "[0, 21, 0]\n",
      ".v. -----> .\n",
      "[21, 0, 0]\n",
      "isabella\n",
      "... -----> i\n",
      "[0, 0, 8]\n",
      "..i -----> s\n",
      "[0, 8, 18]\n",
      ".is -----> .\n",
      "[8, 18, 0]\n",
      "is. -----> b\n",
      "[18, 0, 1]\n",
      "s.b -----> e\n",
      "[0, 1, 4]\n",
      ".be -----> l\n",
      "[1, 4, 11]\n",
      "bel -----> l\n",
      "[4, 11, 11]\n",
      "ell -----> .\n",
      "[11, 11, 0]\n",
      "ll. -----> .\n",
      "[11, 0, 0]\n",
      "sophia\n",
      "... -----> s\n",
      "[0, 0, 18]\n",
      "..s -----> o\n",
      "[0, 18, 14]\n",
      ".so -----> p\n",
      "[18, 14, 15]\n",
      "sop -----> h\n",
      "[14, 15, 7]\n",
      "oph -----> i\n",
      "[15, 7, 8]\n",
      "phi -----> .\n",
      "[7, 8, 0]\n",
      "hi. -----> .\n",
      "[8, 0, 0]\n"
     ]
    }
   ],
   "source": [
    "#re building the dataset\n",
    "block_size = 3 #context_length; how many charactors do we take to predict the next one\n",
    "X, Y = [], []\n",
    "for w in words[:5]:\n",
    "    print(w)\n",
    "    context = [0] * block_size\n",
    "    for ch in w + '.':\n",
    "        ix = stoi[ch]\n",
    "        X.append(context)\n",
    "        Y.append(ix)\n",
    "        print(''.join(itos[i] for i in context), '----->' ,itos[ix])\n",
    "        context = context[1:] + [ix]\n",
    "X = torch.tensor(X)\n",
    "Y = torch.tensor(Y)"
   ]
  },
  {
   "cell_type": "markdown",
   "id": "73430f4c-6ade-4c20-8caf-87432e74c5be",
   "metadata": {},
   "source": []
  },
  {
   "cell_type": "code",
   "execution_count": 7,
   "id": "32171dc8-8ca4-4ca9-87d0-466a812201a4",
   "metadata": {},
   "outputs": [
    {
     "data": {
      "text/plain": [
       "(torch.Size([32, 3]), torch.int64, torch.Size([32]), torch.Size([32]))"
      ]
     },
     "execution_count": 7,
     "metadata": {},
     "output_type": "execute_result"
    }
   ],
   "source": [
    "X.shape, X.dtype, Y.shape, Y.shape"
   ]
  },
  {
   "cell_type": "code",
   "execution_count": 8,
   "id": "2b0944ad-d369-4321-8c51-4e6d61264b9a",
   "metadata": {},
   "outputs": [
    {
     "data": {
      "text/plain": [
       "tensor([[ 0,  0,  0],\n",
       "        [ 0,  0,  4],\n",
       "        [ 0,  4, 12],\n",
       "        [ 4, 12, 12],\n",
       "        [12, 12,  0],\n",
       "        [ 0,  0,  0],\n",
       "        [ 0,  0, 14],\n",
       "        [ 0, 14, 11],\n",
       "        [14, 11,  8],\n",
       "        [11,  8, 21],\n",
       "        [ 8, 21,  8],\n",
       "        [21,  8,  0],\n",
       "        [ 0,  0,  0],\n",
       "        [ 0,  0,  0],\n",
       "        [ 0,  0, 21],\n",
       "        [ 0, 21,  0],\n",
       "        [ 0,  0,  0],\n",
       "        [ 0,  0,  8],\n",
       "        [ 0,  8, 18],\n",
       "        [ 8, 18,  0],\n",
       "        [18,  0,  1],\n",
       "        [ 0,  1,  4],\n",
       "        [ 1,  4, 11],\n",
       "        [ 4, 11, 11],\n",
       "        [11, 11,  0],\n",
       "        [ 0,  0,  0],\n",
       "        [ 0,  0, 18],\n",
       "        [ 0, 18, 14],\n",
       "        [18, 14, 15],\n",
       "        [14, 15,  7],\n",
       "        [15,  7,  8],\n",
       "        [ 7,  8,  0]])"
      ]
     },
     "execution_count": 8,
     "metadata": {},
     "output_type": "execute_result"
    }
   ],
   "source": [
    "X"
   ]
  },
  {
   "cell_type": "code",
   "execution_count": 34,
   "id": "dd62dee5-07cc-42f5-b213-5e3620c79385",
   "metadata": {},
   "outputs": [
    {
     "data": {
      "text/plain": [
       "tensor([ 4, 12, 12,  0,  0, 14, 11,  8, 21,  8,  0,  0,  0, 21,  0,  0,  8, 18,\n",
       "         0,  1,  4, 11, 11,  0,  0, 18, 14, 15,  7,  8,  0,  0])"
      ]
     },
     "execution_count": 34,
     "metadata": {},
     "output_type": "execute_result"
    }
   ],
   "source": [
    "Y"
   ]
  },
  {
   "cell_type": "code",
   "execution_count": 9,
   "id": "b7163966-b794-42ca-8a77-3a40938eb783",
   "metadata": {},
   "outputs": [],
   "source": [
    "#lookup table\n",
    "C = torch.randn((27,2)) #27 rows where each row is a represtative of each word and we embedd it to only 2 dim space\n",
    "#the choioce of dimensiona;ity is hyperparameter"
   ]
  },
  {
   "cell_type": "code",
   "execution_count": 10,
   "id": "737175a5-a368-4608-a7bf-5ad0dede4795",
   "metadata": {},
   "outputs": [
    {
     "data": {
      "text/plain": [
       "tensor([[-0.0601, -1.5389],\n",
       "        [ 1.2137, -0.4272],\n",
       "        [-0.0351,  0.0598],\n",
       "        [-0.0528, -0.1820],\n",
       "        [-0.7626, -0.7673],\n",
       "        [ 1.1108,  1.5336],\n",
       "        [ 1.2753,  0.7123],\n",
       "        [-0.1926, -0.2704],\n",
       "        [-1.0433,  0.0756],\n",
       "        [-1.1127, -0.5630],\n",
       "        [-0.1813, -0.0183],\n",
       "        [ 0.6471, -0.7479],\n",
       "        [ 0.0263, -0.4799],\n",
       "        [ 0.0836, -0.8084],\n",
       "        [-1.5254, -1.2260],\n",
       "        [-0.5982, -0.7380],\n",
       "        [-1.2120,  2.7358],\n",
       "        [ 0.1547,  0.6749],\n",
       "        [-0.0423, -0.6524],\n",
       "        [-1.9166,  0.5864],\n",
       "        [ 0.3511,  1.1407],\n",
       "        [-1.8477,  0.3326],\n",
       "        [-1.0796,  1.4184],\n",
       "        [-0.3512, -0.6708],\n",
       "        [-0.4367,  0.9630],\n",
       "        [ 0.1533,  0.8782],\n",
       "        [ 0.7475, -0.4097]])"
      ]
     },
     "execution_count": 10,
     "metadata": {},
     "output_type": "execute_result"
    }
   ],
   "source": [
    "C"
   ]
  },
  {
   "cell_type": "code",
   "execution_count": 22,
   "id": "b7f8ff46-a9db-4c30-a1d5-fd690d5aa75e",
   "metadata": {},
   "outputs": [
    {
     "data": {
      "text/plain": [
       "tensor([1.1108, 1.5336])"
      ]
     },
     "execution_count": 22,
     "metadata": {},
     "output_type": "execute_result"
    }
   ],
   "source": [
    "F.one_hot(torch.tensor(5) ,num_classes=27).float() @ C #~ C[5]"
   ]
  },
  {
   "cell_type": "code",
   "execution_count": 16,
   "id": "df5c7560-fab5-45b2-b6fd-d9108ffcf476",
   "metadata": {},
   "outputs": [
    {
     "data": {
      "text/plain": [
       "torch.int64"
      ]
     },
     "execution_count": 16,
     "metadata": {},
     "output_type": "execute_result"
    }
   ],
   "source": [
    "X.dtype"
   ]
  },
  {
   "cell_type": "code",
   "execution_count": 23,
   "id": "ed2c0327-1897-42fc-83bc-c20371015c8e",
   "metadata": {},
   "outputs": [],
   "source": [
    "emb = C[X]"
   ]
  },
  {
   "cell_type": "code",
   "execution_count": 33,
   "id": "ceda4e4d-247a-4bd5-b886-2f15abe723fb",
   "metadata": {},
   "outputs": [
    {
     "data": {
      "text/plain": [
       "torch.Size([32, 3, 2])"
      ]
     },
     "execution_count": 33,
     "metadata": {},
     "output_type": "execute_result"
    }
   ],
   "source": [
    "emb.shape"
   ]
  },
  {
   "cell_type": "code",
   "execution_count": 31,
   "id": "8a660f89-b823-46c4-9d97-3efc090b2a6d",
   "metadata": {},
   "outputs": [
    {
     "data": {
      "text/plain": [
       "torch.Size([27, 2])"
      ]
     },
     "execution_count": 31,
     "metadata": {},
     "output_type": "execute_result"
    }
   ],
   "source": [
    "C.shape"
   ]
  },
  {
   "cell_type": "code",
   "execution_count": 32,
   "id": "94c7ddb0-953f-4baf-b75c-2b0153a41d7e",
   "metadata": {},
   "outputs": [
    {
     "data": {
      "text/plain": [
       "torch.Size([32, 3])"
      ]
     },
     "execution_count": 32,
     "metadata": {},
     "output_type": "execute_result"
    }
   ],
   "source": [
    "X.shape"
   ]
  },
  {
   "cell_type": "markdown",
   "id": "9865ac18-fe6c-45cc-8115-dcc7dbf15847",
   "metadata": {},
   "source": [
    "## build up the hidden layer"
   ]
  },
  {
   "cell_type": "code",
   "execution_count": 44,
   "id": "855421fc-cc5c-42fa-b249-e5df92cbc166",
   "metadata": {},
   "outputs": [
    {
     "data": {
      "text/plain": [
       "torch.Size([32, 3, 2])"
      ]
     },
     "execution_count": 44,
     "metadata": {},
     "output_type": "execute_result"
    }
   ],
   "source": [
    "emb = C[X]\n",
    "emb.shape"
   ]
  },
  {
   "cell_type": "code",
   "execution_count": 45,
   "id": "213e4b9f-ed59-4f24-b411-f59ad5d61e6a",
   "metadata": {},
   "outputs": [
    {
     "data": {
      "text/plain": [
       "torch.Size([6, 100])"
      ]
     },
     "execution_count": 45,
     "metadata": {},
     "output_type": "execute_result"
    }
   ],
   "source": [
    "W1 = torch.randn(size=(6, 100)) # we have 3 input word of 2D according to the paper and what vector space we embed to here (c~2D) n 100 random neuron in the layer\n",
    "b1 = torch.randn(100) \n",
    "W1.shape"
   ]
  },
  {
   "cell_type": "code",
   "execution_count": 51,
   "id": "55ef39d0-fd24-43c4-a8af-2817b48b10db",
   "metadata": {},
   "outputs": [
    {
     "data": {
      "text/plain": [
       "torch.Size([32, 100])"
      ]
     },
     "execution_count": 51,
     "metadata": {},
     "output_type": "execute_result"
    }
   ],
   "source": [
    "#hidden Layer\n",
    "h = torch.tanh(emb.view(-1, 6) @ W1 + b1)\n",
    "h.shape\n",
    "# 32, 6\n",
    "# 6, 100 "
   ]
  },
  {
   "cell_type": "markdown",
   "id": "c25ccf88-407a-4554-a29b-48d275665f9b",
   "metadata": {},
   "source": [
    "## final layer\n"
   ]
  },
  {
   "cell_type": "code",
   "execution_count": 54,
   "id": "8086fb06-1e4d-4519-9302-368d2c6fc1c2",
   "metadata": {},
   "outputs": [],
   "source": [
    "W2 = torch.randn((100, 27))\n",
    "b2 = torch.randn(27)"
   ]
  },
  {
   "cell_type": "code",
   "execution_count": 56,
   "id": "82dee47b-6eb2-4374-8be1-224a9f3486bf",
   "metadata": {},
   "outputs": [
    {
     "data": {
      "text/plain": [
       "torch.Size([32, 27])"
      ]
     },
     "execution_count": 56,
     "metadata": {},
     "output_type": "execute_result"
    }
   ],
   "source": [
    "logits = h @ W2 + b2\n",
    "logits.shape"
   ]
  },
  {
   "cell_type": "code",
   "execution_count": 57,
   "id": "0b5c4046-a6dd-4ca0-a871-440e8c0cb808",
   "metadata": {},
   "outputs": [],
   "source": [
    "counts = logits.exp()"
   ]
  },
  {
   "cell_type": "code",
   "execution_count": 62,
   "id": "57292a3d-df29-44b3-a018-0651259bcf5c",
   "metadata": {},
   "outputs": [
    {
     "data": {
      "text/plain": [
       "torch.Size([32, 27])"
      ]
     },
     "execution_count": 62,
     "metadata": {},
     "output_type": "execute_result"
    }
   ],
   "source": [
    "prob = counts / counts.sum(1, keepdim=True)\n",
    "prob.shape"
   ]
  },
  {
   "cell_type": "code",
   "execution_count": 75,
   "id": "22ef8748-6a2f-4281-914f-7d0516dd285a",
   "metadata": {},
   "outputs": [
    {
     "data": {
      "text/plain": [
       "tensor(18.8451)"
      ]
     },
     "execution_count": 75,
     "metadata": {},
     "output_type": "execute_result"
    }
   ],
   "source": [
    "loss = -prob[torch.arange(32), Y].log().mean()\n",
    "loss"
   ]
  },
  {
   "cell_type": "code",
   "execution_count": 67,
   "id": "cd2e4e6f-fee3-44ba-9afa-d56ec39683ea",
   "metadata": {},
   "outputs": [],
   "source": [
    "#-------------- CLEANER :) -------------------"
   ]
  },
  {
   "cell_type": "code",
   "execution_count": 68,
   "id": "224e83af-e84e-4201-8c27-78b5feb8d07c",
   "metadata": {},
   "outputs": [
    {
     "data": {
      "text/plain": [
       "(torch.Size([32, 3]), torch.Size([32]))"
      ]
     },
     "execution_count": 68,
     "metadata": {},
     "output_type": "execute_result"
    }
   ],
   "source": [
    "X.shape, Y.shape #dataset"
   ]
  },
  {
   "cell_type": "code",
   "execution_count": 71,
   "id": "8dae6cc3-ecd6-4992-894f-1e7d8ea59b9a",
   "metadata": {},
   "outputs": [],
   "source": [
    "g = torch.Generator().manual_seed(2147483647) \n",
    "C = torch.randn((27,2), generator= g)\n",
    "W1 = torch.randn((6, 100), generator=g)\n",
    "b1 = torch.randn(100, generator=g)\n",
    "W2 = torch.randn((100, 27), generator=g)\n",
    "b2 = torch.randn(27, generator = g)\n",
    "parameters = [W1, W2, b1,b2, C]"
   ]
  },
  {
   "cell_type": "code",
   "execution_count": 72,
   "id": "84602685-541a-4223-8fec-e30596452a93",
   "metadata": {},
   "outputs": [
    {
     "data": {
      "text/plain": [
       "3481"
      ]
     },
     "execution_count": 72,
     "metadata": {},
     "output_type": "execute_result"
    }
   ],
   "source": [
    "sum(p.nelement() for p in parameters) #number of total parameters in total"
   ]
  },
  {
   "cell_type": "code",
   "execution_count": 80,
   "id": "5e118d4b-6c4d-4779-97e2-e9dffc7726c4",
   "metadata": {},
   "outputs": [],
   "source": [
    "#forward pass\n",
    "emb = C[X] #(32,3,2)\n",
    "h = torch.tanh(emb.view(-1, 6) @ W1 + b1) #32, 100\n",
    "logits = h @ W2 + b2 # 32, 27\n",
    "#counts = logits.exp()\n",
    "#prob = counts / counts.sum(1, keepdim=True)\n",
    "#loss = -prob[torch.arange(32), Y].log(.mean()\n",
    "loss = F.cross_entropy(logits, Y)\n",
    "#backward pass ;) "
   ]
  },
  {
   "cell_type": "code",
   "execution_count": null,
   "id": "88644fc3-cbed-4ac6-b776-7e0148935cbe",
   "metadata": {},
   "outputs": [],
   "source": []
  }
 ],
 "metadata": {
  "kernelspec": {
   "display_name": "Python 3 (ipykernel)",
   "language": "python",
   "name": "python3"
  },
  "language_info": {
   "codemirror_mode": {
    "name": "ipython",
    "version": 3
   },
   "file_extension": ".py",
   "mimetype": "text/x-python",
   "name": "python",
   "nbconvert_exporter": "python",
   "pygments_lexer": "ipython3",
   "version": "3.10.12"
  }
 },
 "nbformat": 4,
 "nbformat_minor": 5
}
